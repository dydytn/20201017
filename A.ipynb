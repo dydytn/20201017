{
  "nbformat": 4,
  "nbformat_minor": 0,
  "metadata": {
    "colab": {
      "name": "A.ipynb",
      "provenance": [],
      "collapsed_sections": [],
      "authorship_tag": "ABX9TyONf7+JPOzVIAkZX+cONcEY"
    },
    "kernelspec": {
      "name": "python3",
      "display_name": "Python 3"
    }
  },
  "cells": [
    {
      "cell_type": "code",
      "metadata": {
        "id": "yNam6w5rDngP"
      },
      "source": [
        "print(ord(\"A\"))"
      ],
      "execution_count": null,
      "outputs": []
    },
    {
      "cell_type": "code",
      "metadata": {
        "id": "yPsh7_JyKp_h"
      },
      "source": [
        "A={x:chr(x) for x in range(1,257)}\n",
        "print(A)"
      ],
      "execution_count": null,
      "outputs": []
    },
    {
      "cell_type": "code",
      "metadata": {
        "id": "XD4dZJcfS1RF"
      },
      "source": [
        "#!/usr/bin/python\n",
        "# -*- coding: UTF-8 -*-\n",
        " \n",
        "# 導|載入模組\n",
        "import support\n",
        " \n",
        "# 現在可以調用模組裡包含的函數了\n",
        "support.print_func(\"MyFriends\")"
      ],
      "execution_count": null,
      "outputs": []
    },
    {
      "cell_type": "code",
      "metadata": {
        "id": "AgLcPdMYwDFT"
      },
      "source": [
        "print(\"Hello\")"
      ],
      "execution_count": null,
      "outputs": []
    },
    {
      "cell_type": "code",
      "metadata": {
        "id": "lwcquiCXwwrJ"
      },
      "source": [
        "print(\"Welcome\")"
      ],
      "execution_count": null,
      "outputs": []
    },
    {
      "cell_type": "code",
      "metadata": {
        "id": "IRDdUXx6xrCw"
      },
      "source": [
        "a=1\n",
        "b=2\n",
        "print(a,\"+\",b,\"=\",a+b)"
      ],
      "execution_count": null,
      "outputs": []
    }
  ]
}