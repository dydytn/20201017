{
  "nbformat": 4,
  "nbformat_minor": 0,
  "metadata": {
    "colab": {
      "name": "Stock_calculation.ipynb",
      "provenance": [],
      "collapsed_sections": [],
      "authorship_tag": "ABX9TyOu+Jow39oywxUkRBkSQd62",
      "include_colab_link": true
    },
    "kernelspec": {
      "name": "python3",
      "display_name": "Python 3"
    }
  },
  "cells": [
    {
      "cell_type": "markdown",
      "metadata": {
        "id": "view-in-github",
        "colab_type": "text"
      },
      "source": [
        "<a href=\"https://colab.research.google.com/github/dydytn/Test_Test/blob/main/Stock_calculation.ipynb\" target=\"_parent\"><img src=\"https://colab.research.google.com/assets/colab-badge.svg\" alt=\"Open In Colab\"/></a>"
      ]
    },
    {
      "cell_type": "markdown",
      "metadata": {
        "id": "IlxMo2n1HwjC"
      },
      "source": [
        "##股票試算"
      ]
    },
    {
      "cell_type": "code",
      "metadata": {
        "id": "ExERSH4QH3aV",
        "colab": {
          "base_uri": "https://localhost:8080/"
        },
        "outputId": "dd21d7cc-7ecc-4ae1-f5d2-5826eacb544b"
      },
      "source": [
        "x=\"陞達科技\"\n",
        "y=\"4945\"\n",
        "A=51.8 #平均賣價\n",
        "B=38 #定價\n",
        "C=2.2 #承銷費\n",
        "D=0 #溢收\n",
        "Q=500 # 出資(萬元)\n",
        "R=1280 #總資金(萬元)\n",
        "print(\"------------------------------------\")\n",
        "print(x+\"(\"+y+\")\")\n",
        "E=(((1-0.001425-0.003)*A-B)*0.5-C)*0.5 #每股獲利(註1)或虧損(註2)\n",
        "F=B+C+D #每股成本(即B+C+D)\n",
        "print(\"A=平均賣價=\",A)\n",
        "print(\"B=定價=\",B)\n",
        "print(\"C=承銷費=\",C)\n",
        "print(\"D=溢收=\",D)\n",
        "print(\"------------------------------------\")\n",
        "if ((1-0.001425-0.003)*A-B-C>0):\n",
        "  E=(((1-0.001425-0.003)*A-B)*0.5-C)*0.5 #每股獲利(註1)或虧損(註2)\n",
        "  print(\"E=每股獲利(註)=\",E)\n",
        "  Z=\"(註)每股獲利=\\n{[(1-0.1425%-0.3%)*A-B]*0.5-C}*0.5\"\n",
        "else:\n",
        "  E=(1-0.001425-0.003)*A-B-C #每股獲利(註1)或虧損(註2)\n",
        "  print(\"E=每股虧損(註)=\",E)\n",
        "  Z=\"(註)每股虧損=\\n(1-0.1425%-0.3%)*A-B-C\"\n",
        "print(\"F=每股成本(即B+C+D)=\",F)\n",
        "print(\"E/F=報酬率=\",int(10000*E/F)/100.0,\"%\")\n",
        "print(\"------------------------------------\")\n",
        "P=100000*E/F\n",
        "print(\"Q=出資(萬元)=\",Q)\n",
        "print(\"R=總資金(萬元)=\",R)\n",
        "print(\"------------------------------------\")\n",
        "print(\"P=個資者每十萬元盈虧=\",int(P))\n",
        "print(\"P*(Q/R)=合資者每十萬元盈虧=\",int(P*Q/R))\n",
        "print(\"------------------------------------\")\n",
        "print(Z)\n",
        "print(\"------------------------------------\")\n"
      ],
      "execution_count": 2,
      "outputs": [
        {
          "output_type": "stream",
          "text": [
            "------------------------------------\n",
            "陞達科技(4945)\n",
            "A=平均賣價= 51.8\n",
            "B=定價= 38\n",
            "C=承銷費= 2.2\n",
            "D=溢收= 0\n",
            "------------------------------------\n",
            "E=每股獲利(註)= 2.2926962499999983\n",
            "F=每股成本(即B+C+D)= 40.2\n",
            "E/F=報酬率= 5.7 %\n",
            "------------------------------------\n",
            "Q=出資(萬元)= 500\n",
            "R=總資金(萬元)= 1280\n",
            "------------------------------------\n",
            "P=個資者每十萬元盈虧= 5703\n",
            "P*(Q/R)=合資者每十萬元盈虧= 2227\n",
            "------------------------------------\n",
            "(註)每股獲利=\n",
            "{[(1-0.1425%-0.3%)*A-B]*0.5-C}*0.5\n",
            "------------------------------------\n"
          ],
          "name": "stdout"
        }
      ]
    }
  ]
}