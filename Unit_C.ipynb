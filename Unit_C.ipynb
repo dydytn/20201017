{
  "nbformat": 4,
  "nbformat_minor": 0,
  "metadata": {
    "colab": {
      "name": "Unit_C.ipynb",
      "provenance": [],
      "collapsed_sections": [],
      "authorship_tag": "ABX9TyPDK378VvyEiQOjn3M8hYdp"
    },
    "kernelspec": {
      "name": "python3",
      "display_name": "Python 3"
    }
  },
  "cells": [
    {
      "cell_type": "markdown",
      "metadata": {
        "id": "7RmfbWJHvHJk"
      },
      "source": [
        "# **單元 C 學習重點**\n",
        "*   **特殊函數介紹**\n",
        "*   **s i n 與 c o s 之疊合**\n",
        "*   **指數與對數函數圖形**"
      ]
    },
    {
      "cell_type": "markdown",
      "metadata": {
        "id": "4W6UgQVLqips"
      },
      "source": [
        "## **C01.循環語句  for  (單層迴圈)**\n",
        "(有2種方法如下:)\n",
        "\n",
        "要注意 **縮排與對齊**~非常重要"
      ]
    },
    {
      "cell_type": "code",
      "metadata": {
        "id": "BY2hfWoNEJsS"
      },
      "source": [
        "#用法1\n",
        "#(起點,終點,間隔) (包含起點,但不含終點)\n",
        "for i in range(1,6,1):\n",
        "    print(i,\"的平方數=\",i*i)\n",
        "print(\"執行完畢\")"
      ],
      "execution_count": null,
      "outputs": []
    },
    {
      "cell_type": "code",
      "metadata": {
        "id": "DmuBydXjLSsT"
      },
      "source": [
        "#用法2\n",
        "for i in [15,29,31,17,26]:\n",
        "    print(i,\"的平方數=\",i*i)\n",
        "print(\"執行完畢\")"
      ],
      "execution_count": null,
      "outputs": []
    },
    {
      "cell_type": "markdown",
      "metadata": {
        "id": "3QxuTgWjvRhm"
      },
      "source": [
        "## **C02.循環語句  for  (多層迴圈)**\n",
        "\n",
        "(有2種方法如下:)\n",
        "\n",
        "要注意 **縮排與對齊**~非常重要"
      ]
    },
    {
      "cell_type": "code",
      "metadata": {
        "id": "KBPXO0DZIbT9"
      },
      "source": [
        "#用法1\n",
        "N=6\n",
        "for i in range(1,N+1,1):\n",
        "    for j in range(1,N+1,1):\n",
        "        print(\"(\",i,\",\",j,\")\",end=\"\") #不換行\n",
        "    print(\" \") #會換行\n",
        "print(\"執行完畢\")"
      ],
      "execution_count": null,
      "outputs": []
    },
    {
      "cell_type": "code",
      "metadata": {
        "id": "AXWUHQhLJJ6r"
      },
      "source": [
        "#用法2\n",
        "for i in [\"無糖\",\"微糖\",\"多糖\"]:\n",
        "    for j in [\"綠茶\",\"紅茶\",\"奶茶\",\"花茶\"]:\n",
        "        print(i+j,end=\" \")\n",
        "    print(\" \")\n",
        "print(\"執行完畢\")"
      ],
      "execution_count": null,
      "outputs": []
    },
    {
      "cell_type": "markdown",
      "metadata": {
        "id": "BUMqFMb3vRwE"
      },
      "source": [
        "## **C03.試寫程式~**\n",
        "HW1.印出 \"我以後上課不會打瞌睡\" 10次\n",
        "\n",
        "HW2.印出等差數列前10項(首項為-5,公差為2)\n",
        "\n",
        "HW3.印出等比數列前10項(首項為-5,公比為2)\n",
        "\n",
        "HW4.印出九九乘法\n",
        "\n",
        "HW5.印出一副撲克牌\n",
        "\n",
        "Hw6.印出投擲硬幣5次的樣本空間"
      ]
    },
    {
      "cell_type": "markdown",
      "metadata": {
        "id": "cxjNiPbbvD4J"
      },
      "source": [
        "## **A07.Making Waves 與波共舞**"
      ]
    },
    {
      "cell_type": "markdown",
      "metadata": {
        "id": "7Bql6HvjP9W4"
      },
      "source": [
        "## **A09.指數函數圖形**\n",
        "\n",
        "\n",
        "\n",
        "\n"
      ]
    },
    {
      "cell_type": "markdown",
      "metadata": {
        "id": "osnqwz5RkBOa"
      },
      "source": [
        "## **A10.試寫程式~完成對數函數圖形**\n",
        "\n",
        "\n",
        "\n",
        "\n"
      ]
    },
    {
      "cell_type": "markdown",
      "metadata": {
        "id": "xB2n8vW-kdco"
      },
      "source": [
        "## **A11.試將 A09 與 A10 程式~加入坐標軸**\n",
        "\n",
        "\n",
        "\n",
        "\n"
      ]
    },
    {
      "cell_type": "markdown",
      "metadata": {
        "id": "8iVu1MwvlH--"
      },
      "source": [
        "## **A12.試寫程式~完成指數與對數函數圖形(當底數大於1)**\n",
        "\n",
        "\n",
        "\n",
        "\n"
      ]
    },
    {
      "cell_type": "markdown",
      "metadata": {
        "id": "sv0Ly2enlePB"
      },
      "source": [
        "## **A13.試寫程式~完成指數與對數函數圖形(當底數小於1)**\n",
        "\n",
        "\n",
        "\n",
        "\n"
      ]
    },
    {
      "cell_type": "markdown",
      "metadata": {
        "id": "l_pjAUi5mMr_"
      },
      "source": [
        "## **A14.試將 A12 與 A13 程式~再畫 直線 y=x**\n",
        "\n",
        "\n",
        "\n",
        "\n"
      ]
    }
  ]
}