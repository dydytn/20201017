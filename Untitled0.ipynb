{
  "nbformat": 4,
  "nbformat_minor": 0,
  "metadata": {
    "colab": {
      "name": "Untitled0.ipynb",
      "provenance": [],
      "collapsed_sections": [
        "-kGeACUXOlqC"
      ],
      "authorship_tag": "ABX9TyNo0cIQmgEByxBjPX0GOYvU"
    },
    "kernelspec": {
      "name": "python3",
      "display_name": "Python 3"
    }
  },
  "cells": [
    {
      "cell_type": "markdown",
      "metadata": {
        "id": "7RmfbWJHvHJk"
      },
      "source": [
        "**A01**\n",
        "\n",
        "**我的第一個python程式**"
      ]
    },
    {
      "cell_type": "code",
      "metadata": {
        "id": "deI1Hz0ku9y0"
      },
      "source": [
        "#我的第一個python程式\n",
        "print(\"Welcome to Tnssh!\")"
      ],
      "execution_count": null,
      "outputs": []
    },
    {
      "cell_type": "markdown",
      "metadata": {
        "id": "3QxuTgWjvRhm"
      },
      "source": [
        "**A02**\n",
        "\n",
        "**基本數據類型**"
      ]
    },
    {
      "cell_type": "code",
      "metadata": {
        "id": "EANSvQagww26"
      },
      "source": [
        "#基本數據類型\n",
        "x=2018     #整數\n",
        "y=\"abc\"     #字串\n",
        "z=1.23     #浮點數\n",
        "\n",
        "print(x)    #會換行\n",
        "print(y)    #會換行\n",
        "print(z)    #會換行\n",
        "print(\" \")   #會空一行\n",
        "\n",
        "print(x,end=\" \") #不換行\n",
        "print(y,end=\" \") #不換行\n",
        "print(z,end=\" \") #不換行"
      ],
      "execution_count": null,
      "outputs": []
    },
    {
      "cell_type": "markdown",
      "metadata": {
        "id": "BUMqFMb3vRwE"
      },
      "source": [
        "**A03**\n",
        "\n",
        "**整數的算術運算**\n",
        "\n",
        "以 , 作間隔 , 多運用 print 指令,可檢查程式是否有誤~"
      ]
    },
    {
      "cell_type": "code",
      "metadata": {
        "id": "i037qUGwym4x"
      },
      "source": [
        "#整數的算術運算\n",
        "a =13\n",
        "b =10\n",
        "\n",
        "print(a,\"+\",b,\"=\",a+b)\n",
        "print(a,\"-\",b,\"=\",a-b)\n",
        "print(a,\"*\",b,\"=\",a*b)\n",
        "print(a,\"/\",b,\"=\",a/b)\n",
        "print(\"a除以b取整數值=\",int(a/b))\n",
        "print(\"a除以b取商數=\",a//b)\n",
        "print(\"a除以b取餘數=\",a%b)\n",
        "print(\"a的b次方=\",a**b)"
      ],
      "execution_count": null,
      "outputs": []
    },
    {
      "cell_type": "markdown",
      "metadata": {
        "id": "_JgcUrz2vR5O"
      },
      "source": [
        "**A04**\n",
        "\n",
        "**特殊函數 : 絕對值,正弦,餘弦,對數**\n",
        "\n",
        "\n",
        "![m03.png](data:image/png;base64,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)\n",
        "\n"
      ]
    },
    {
      "cell_type": "code",
      "metadata": {
        "id": "U8xBBn_rzxXo"
      },
      "source": [
        "import numpy as np\n",
        "pi=3.14159 #圓周率\n",
        "x1=-5\n",
        "x2=60*pi/180\n",
        "x3=30*pi/180\n",
        "x4=0.001\n",
        "\n",
        "y1=abs(x1)\n",
        "y2=np.sin(x2)\n",
        "y3=np.cos(x3)\n",
        "y4=np.log10(x4)\n",
        "\n",
        "print(\"第1個值=\",y1)\n",
        "print(\"第2個值=\",y2)\n",
        "print(\"第3個值=\",y3)\n",
        "print(\"第4個值=\",y4)"
      ],
      "execution_count": null,
      "outputs": []
    },
    {
      "cell_type": "markdown",
      "metadata": {
        "id": "np6AbeuqvSG_"
      },
      "source": [
        "**A01**\n",
        "\n",
        "**整數的算術運算**"
      ]
    },
    {
      "cell_type": "markdown",
      "metadata": {
        "id": "oKodf64KvFox"
      },
      "source": [
        "**A01**\n",
        "\n",
        "**整數的算術運算**"
      ]
    },
    {
      "cell_type": "markdown",
      "metadata": {
        "id": "cxjNiPbbvD4J"
      },
      "source": [
        "**A01**\n",
        "\n",
        "**整數的算術運算**"
      ]
    },
    {
      "cell_type": "markdown",
      "metadata": {
        "id": "7Bql6HvjP9W4"
      },
      "source": [
        "**A01**\n",
        "\n",
        "**整數的算術運算**\n",
        "\n",
        "\n",
        "\n",
        "\n"
      ]
    },
    {
      "cell_type": "code",
      "metadata": {
        "id": "AMDwS3i_tKcW"
      },
      "source": [
        "#P1\n",
        "#字串的方法(string methods)\n",
        "A=\"Welcome to Tnssh!\"\n",
        "print(A.strip())\n",
        "print(A.lower())\n",
        "print(A.replace(\"e\",\"x\"))\n",
        "print(A.split(\",\"))\n",
        "S=\"come\" in A\n",
        "print(S)\n",
        "x=\"Hello!\"\n",
        "print(x+A)"
      ],
      "execution_count": null,
      "outputs": []
    },
    {
      "cell_type": "code",
      "metadata": {
        "id": "4yjJ4cosvveT"
      },
      "source": [
        "#P2\n",
        "#字串的方法(string methods)\n",
        "A=\"Welcome to Tnssh!\"\n",
        "print(A.index(\"Tnssh\"))\n",
        "print(A.find(\"m\"))\n",
        "print(A.count('e'))\n",
        "print(A[:-3])\n",
        "print(' '.join(reversed(A)))\n",
        "print(A.isalnum())"
      ],
      "execution_count": null,
      "outputs": []
    },
    {
      "cell_type": "code",
      "metadata": {
        "id": "A2q29D7TwiMJ"
      },
      "source": [
        "#P3\n",
        "#python的字串相關功能\n",
        "#把「值」變成字串\n",
        "str(232)\n",
        "str(False)\n",
        "\n",
        "#回傳字元的Unicode碼\n",
        "ord(\"b\")\n",
        "\n",
        "#回傳整數對應的Unicode字元\n",
        "chr(65)"
      ],
      "execution_count": null,
      "outputs": []
    },
    {
      "cell_type": "code",
      "metadata": {
        "id": "2dEWymwue0eZ"
      },
      "source": [
        "#P4\n",
        "#從Python3.6開始，f-string(F字符串)是格式化字符串\n",
        "#的一種很好的新方法。與其他格式化方式相比，它們不\n",
        "#僅更易讀，更簡潔，不易出錯，而且速度更快！\n",
        "#f-strings 也稱作「格式化的字符串字面量」，它是\n",
        "#一個帶有 f 前綴的字符串，通過大括號嵌入所需的\n",
        "# python 表達式"
      ],
      "execution_count": null,
      "outputs": []
    },
    {
      "cell_type": "code",
      "metadata": {
        "id": "4noUD2l84Vh6"
      },
      "source": [
        "#P5\n",
        "a = 1\n",
        "b = 2\n",
        "c = 3\n",
        "print(f\"a={i1};b={i2};c={i3}\")"
      ],
      "execution_count": null,
      "outputs": []
    },
    {
      "cell_type": "code",
      "metadata": {
        "id": "2x5rG_TFfYhh"
      },
      "source": [
        "#P6\n",
        "'''\n",
        "#範例: 兔兔的罰寫作業一百遍\n",
        "話說在可愛動物程式學園中，\n",
        "兔兔因為上課偷睡覺被馬老師抓到，\n",
        "馬老師決定讓兔兔罰抄「我以後上課不會打瞌睡」一百遍。\n",
        "\n",
        "馬老師給兔兔兩個選擇，\n",
        "\n",
        "用手抄一百遍\n",
        "由於是程式學園，改以在螢幕上顯示一百遍「我以後上課不會打瞌睡」\n",
        "'''"
      ],
      "execution_count": null,
      "outputs": []
    },
    {
      "cell_type": "code",
      "metadata": {
        "id": "ymbR5o84JTTZ"
      },
      "source": [
        "N=10\n",
        "for i in range(1,N+1,1):\n",
        "    print('我以後上課不會打瞌睡')"
      ],
      "execution_count": null,
      "outputs": []
    },
    {
      "cell_type": "markdown",
      "metadata": {
        "id": "B8No9tYQI92M"
      },
      "source": [
        "範例: 兔兔的罰寫作業一百遍\n",
        "話說在可愛動物程式學園中，\n",
        "兔兔因為上課偷睡覺被馬老師抓到，\n",
        "馬老師決定讓兔兔罰抄「我以後上課不會打瞌睡」一百遍。\n",
        "\n",
        "馬老師給兔兔兩個選擇，\n",
        "\n",
        "用手抄一百遍\n",
        "由於是程式學園，改以在螢幕上顯示一百遍「我以後上課不會打瞌睡」"
      ]
    },
    {
      "cell_type": "markdown",
      "metadata": {
        "id": "GigaJPKQJDta"
      },
      "source": [
        "<續集>\n",
        "這時馬老師來檢查兔兔的螢幕，\n",
        "馬老師說「這樣不行，我怎麼知道螢幕上是不是真的有一百遍文字呢?難道要我一行一行數嗎?」\n",
        "馬老師要求在每句的「我以後上課不會打瞌睡」前面要加上編號，\n",
        "在螢幕上要顯示\n",
        "1. 我以後上課不會打瞌睡\n",
        "2. 我以後上課不會打瞌睡\n",
        "…\n",
        "100. 我以後上課不會打瞌睡\n",
        "這樣子才一目瞭然\n",
        "\n",
        "聰明如你，幫兔兔想想辦法程式要怎麼改寫呢?"
      ]
    },
    {
      "cell_type": "code",
      "metadata": {
        "id": "zVkd-wAhJUH7"
      },
      "source": [
        "N=10\n",
        "for i in range(1,N+1,1):\n",
        "    print(f'{i}.我以後上課不會打瞌睡')"
      ],
      "execution_count": null,
      "outputs": []
    },
    {
      "cell_type": "markdown",
      "metadata": {
        "id": "spXgGGqRLMa5"
      },
      "source": [
        "#範例:用程式印出九九乘法表"
      ]
    },
    {
      "cell_type": "code",
      "metadata": {
        "id": "0cGEZL9MLPBw"
      },
      "source": [
        "N=9\n",
        "for i in range(1,N+1,1):\n",
        "  for j in range(1,N+1,1):\n",
        "    print(f'{i}*{j}={i*j:2d}',end=\"  \")\n",
        "  print(\" \")"
      ],
      "execution_count": null,
      "outputs": []
    },
    {
      "cell_type": "markdown",
      "metadata": {
        "id": "L_J3Pzlg5-8v"
      },
      "source": [
        "從Python3.6開始，f-string(F字符串)是格式化字符串的一種很好的新方法。與其他格式化方式相比，它們不僅更易讀，更簡潔，不易出錯，而且速度更快！\n",
        "f-strings 也稱作「格式化的字符串字面量」，它是一個帶有 f 前綴的字符串，通過大括號嵌入所需的 python 表達式\n",
        "\n",
        "\n",
        "\n",
        "\n"
      ]
    },
    {
      "cell_type": "markdown",
      "metadata": {
        "id": "-kGeACUXOlqC"
      },
      "source": [
        "#https://ithelp.ithome.com.tw/articles/10230759\n"
      ]
    }
  ]
}