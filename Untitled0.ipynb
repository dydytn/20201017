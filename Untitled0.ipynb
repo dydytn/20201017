{
  "nbformat": 4,
  "nbformat_minor": 0,
  "metadata": {
    "colab": {
      "name": "Untitled0.ipynb",
      "provenance": [],
      "collapsed_sections": [
        "-kGeACUXOlqC"
      ],
      "authorship_tag": "ABX9TyPZbc+7RAT9RoWdNv5gx/S4"
    },
    "kernelspec": {
      "name": "python3",
      "display_name": "Python 3"
    }
  },
  "cells": [
    {
      "cell_type": "markdown",
      "metadata": {
        "id": "7Bql6HvjP9W4"
      },
      "source": [
        "#課程名稱 : **數據統計與遞迴**\n",
        "####上課須知\n",
        "* 請不要帶食物進教室.\n",
        "* 下課後,記得要登出,可以不用關機.\n",
        "\n",
        "\n",
        "\n",
        "\n"
      ]
    },
    {
      "cell_type": "code",
      "metadata": {
        "id": "AMDwS3i_tKcW"
      },
      "source": [
        "#P1\n",
        "#字串的方法(string methods)\n",
        "A=\"Welcome to Tnssh!\"\n",
        "print(A.strip())\n",
        "print(A.lower())\n",
        "print(A.replace(\"e\",\"x\"))\n",
        "print(A.split(\",\"))\n",
        "S=\"come\" in A\n",
        "print(S)\n",
        "x=\"Hello!\"\n",
        "print(x+A)"
      ],
      "execution_count": null,
      "outputs": []
    },
    {
      "cell_type": "code",
      "metadata": {
        "id": "4yjJ4cosvveT"
      },
      "source": [
        "#P2\n",
        "#字串的方法(string methods)\n",
        "A=\"Welcome to Tnssh!\"\n",
        "print(A.index(\"Tnssh\"))\n",
        "print(A.find(\"m\"))\n",
        "print(A.count('e'))\n",
        "print(A[:-3])\n",
        "print(' '.join(reversed(A)))\n",
        "print(A.isalnum())"
      ],
      "execution_count": null,
      "outputs": []
    },
    {
      "cell_type": "code",
      "metadata": {
        "id": "A2q29D7TwiMJ"
      },
      "source": [
        "#P3\n",
        "#python的字串相關功能\n",
        "#把「值」變成字串\n",
        "str(232)\n",
        "str(False)\n",
        "\n",
        "#回傳字元的Unicode碼\n",
        "ord(\"b\")\n",
        "\n",
        "#回傳整數對應的Unicode字元\n",
        "chr(65)"
      ],
      "execution_count": null,
      "outputs": []
    },
    {
      "cell_type": "code",
      "metadata": {
        "id": "2dEWymwue0eZ"
      },
      "source": [
        "#P4\n",
        "#從Python3.6開始，f-string(F字符串)是格式化字符串\n",
        "#的一種很好的新方法。與其他格式化方式相比，它們不\n",
        "#僅更易讀，更簡潔，不易出錯，而且速度更快！\n",
        "#f-strings 也稱作「格式化的字符串字面量」，它是\n",
        "#一個帶有 f 前綴的字符串，通過大括號嵌入所需的\n",
        "# python 表達式"
      ],
      "execution_count": null,
      "outputs": []
    },
    {
      "cell_type": "code",
      "metadata": {
        "id": "4noUD2l84Vh6"
      },
      "source": [
        "#P5\n",
        "a = 1\n",
        "b = 2\n",
        "c = 3\n",
        "print(f\"a={i1};b={i2};c={i3}\")"
      ],
      "execution_count": null,
      "outputs": []
    },
    {
      "cell_type": "code",
      "metadata": {
        "id": "2x5rG_TFfYhh"
      },
      "source": [
        "#P6\n",
        "'''\n",
        "#範例: 兔兔的罰寫作業一百遍\n",
        "話說在可愛動物程式學園中，\n",
        "兔兔因為上課偷睡覺被馬老師抓到，\n",
        "馬老師決定讓兔兔罰抄「我以後上課不會打瞌睡」一百遍。\n",
        "\n",
        "馬老師給兔兔兩個選擇，\n",
        "\n",
        "用手抄一百遍\n",
        "由於是程式學園，改以在螢幕上顯示一百遍「我以後上課不會打瞌睡」\n",
        "'''"
      ],
      "execution_count": null,
      "outputs": []
    },
    {
      "cell_type": "code",
      "metadata": {
        "id": "ymbR5o84JTTZ"
      },
      "source": [
        "N=10\n",
        "for i in range(1,N+1,1):\n",
        "    print('我以後上課不會打瞌睡')"
      ],
      "execution_count": null,
      "outputs": []
    },
    {
      "cell_type": "markdown",
      "metadata": {
        "id": "B8No9tYQI92M"
      },
      "source": [
        "範例: 兔兔的罰寫作業一百遍\n",
        "話說在可愛動物程式學園中，\n",
        "兔兔因為上課偷睡覺被馬老師抓到，\n",
        "馬老師決定讓兔兔罰抄「我以後上課不會打瞌睡」一百遍。\n",
        "\n",
        "馬老師給兔兔兩個選擇，\n",
        "\n",
        "用手抄一百遍\n",
        "由於是程式學園，改以在螢幕上顯示一百遍「我以後上課不會打瞌睡」"
      ]
    },
    {
      "cell_type": "markdown",
      "metadata": {
        "id": "GigaJPKQJDta"
      },
      "source": [
        "<續集>\n",
        "這時馬老師來檢查兔兔的螢幕，\n",
        "馬老師說「這樣不行，我怎麼知道螢幕上是不是真的有一百遍文字呢?難道要我一行一行數嗎?」\n",
        "馬老師要求在每句的「我以後上課不會打瞌睡」前面要加上編號，\n",
        "在螢幕上要顯示\n",
        "1. 我以後上課不會打瞌睡\n",
        "2. 我以後上課不會打瞌睡\n",
        "…\n",
        "100. 我以後上課不會打瞌睡\n",
        "這樣子才一目瞭然\n",
        "\n",
        "聰明如你，幫兔兔想想辦法程式要怎麼改寫呢?"
      ]
    },
    {
      "cell_type": "code",
      "metadata": {
        "id": "zVkd-wAhJUH7",
        "outputId": "17c6af61-c1c7-4399-f004-92df4e694172",
        "colab": {
          "base_uri": "https://localhost:8080/"
        }
      },
      "source": [
        "N=10\n",
        "for i in range(1,N+1,1):\n",
        "    print(f'{i}.我以後上課不會打瞌睡')"
      ],
      "execution_count": null,
      "outputs": [
        {
          "output_type": "stream",
          "text": [
            "1.我以後上課不會打瞌睡\n",
            "2.我以後上課不會打瞌睡\n",
            "3.我以後上課不會打瞌睡\n",
            "4.我以後上課不會打瞌睡\n",
            "5.我以後上課不會打瞌睡\n",
            "6.我以後上課不會打瞌睡\n",
            "7.我以後上課不會打瞌睡\n",
            "8.我以後上課不會打瞌睡\n",
            "9.我以後上課不會打瞌睡\n",
            "10.我以後上課不會打瞌睡\n"
          ],
          "name": "stdout"
        }
      ]
    },
    {
      "cell_type": "markdown",
      "metadata": {
        "id": "spXgGGqRLMa5"
      },
      "source": [
        "#範例:用程式印出九九乘法表"
      ]
    },
    {
      "cell_type": "code",
      "metadata": {
        "id": "0cGEZL9MLPBw"
      },
      "source": [
        "N=9\n",
        "for i in range(1,N+1,1):\n",
        "  for j in range(1,N+1,1):\n",
        "    print(f'{i}*{j}={i*j:2d}',end=\"  \")\n",
        "  print(\" \")"
      ],
      "execution_count": null,
      "outputs": []
    },
    {
      "cell_type": "markdown",
      "metadata": {
        "id": "L_J3Pzlg5-8v"
      },
      "source": [
        "從Python3.6開始，f-string(F字符串)是格式化字符串的一種很好的新方法。與其他格式化方式相比，它們不僅更易讀，更簡潔，不易出錯，而且速度更快！\n",
        "f-strings 也稱作「格式化的字符串字面量」，它是一個帶有 f 前綴的字符串，通過大括號嵌入所需的 python 表達式\n",
        "\n",
        "\n",
        "\n",
        "\n"
      ]
    },
    {
      "cell_type": "markdown",
      "metadata": {
        "id": "-kGeACUXOlqC"
      },
      "source": [
        "#https://ithelp.ithome.com.tw/articles/10230759\n"
      ]
    }
  ]
}